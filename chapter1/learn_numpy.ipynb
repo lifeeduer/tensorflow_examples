{
 "cells": [
  {
   "cell_type": "code",
   "execution_count": 9,
   "metadata": {},
   "outputs": [
    {
     "name": "stdout",
     "output_type": "stream",
     "text": [
      "[[2 3 4 5]\n",
      " [1 3 4 5]]\n"
     ]
    }
   ],
   "source": [
    "# init from array\n",
    "x = np.array([[2,3,4,5],(1,3,4,5)])\n",
    "print(x)"
   ]
  },
  {
   "cell_type": "code",
   "execution_count": null,
   "metadata": {},
   "outputs": [],
   "source": [
    "#init from zero, arange, linspace, indices\n",
    "zero = np.zeros((3,4))\n",
    "print(zero)\n",
    "\n",
    "x = np.arange(10)\n",
    "print(x)\n",
    "x = np.linspace(10)\n",
    "print(x)\n",
    "zero = np.indices((3,4))\n",
    "print(zero)"
   ]
  }
 ],
 "metadata": {
  "kernelspec": {
   "display_name": "Python 2",
   "language": "python",
   "name": "python2"
  },
  "language_info": {
   "codemirror_mode": {
    "name": "ipython",
    "version": 2
   },
   "file_extension": ".py",
   "mimetype": "text/x-python",
   "name": "python",
   "nbconvert_exporter": "python",
   "pygments_lexer": "ipython2",
   "version": "2.7.15"
  }
 },
 "nbformat": 4,
 "nbformat_minor": 2
}
